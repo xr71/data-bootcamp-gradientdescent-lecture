{
 "cells": [
  {
   "cell_type": "code",
   "execution_count": 1,
   "metadata": {},
   "outputs": [],
   "source": [
    "import numpy as np\n",
    "import matplotlib.pyplot as plt\n",
    "\n",
    "%matplotlib inline"
   ]
  },
  {
   "cell_type": "code",
   "execution_count": 2,
   "metadata": {},
   "outputs": [
    {
     "data": {
      "text/plain": [
       "4.0"
      ]
     },
     "execution_count": 2,
     "metadata": {},
     "output_type": "execute_result"
    }
   ],
   "source": [
    "np.sqrt(16)"
   ]
  },
  {
   "cell_type": "markdown",
   "metadata": {},
   "source": [
    "$$\n",
    "\\sqrt{X} \\approx \\frac{1}{2} (\\frac{X}{A} + A)\n",
    "$$\n",
    "\n",
    "Where A is your guess"
   ]
  },
  {
   "cell_type": "code",
   "execution_count": 3,
   "metadata": {},
   "outputs": [],
   "source": [
    "def testfunc(myguess):\n",
    "    X = 121\n",
    "    \n",
    "    return 0.5 * ((X/myguess) + myguess)"
   ]
  },
  {
   "cell_type": "code",
   "execution_count": 4,
   "metadata": {},
   "outputs": [
    {
     "data": {
      "text/plain": [
       "[61.0,\n",
       " 31.25,\n",
       " 21.666666666666668,\n",
       " 17.125,\n",
       " 14.6,\n",
       " 13.083333333333334,\n",
       " 12.142857142857142,\n",
       " 11.5625,\n",
       " 11.222222222222221,\n",
       " 11.05,\n",
       " 11.0,\n",
       " 11.041666666666668,\n",
       " 11.153846153846153,\n",
       " 11.321428571428571,\n",
       " 11.533333333333333,\n",
       " 11.78125,\n",
       " 12.058823529411764,\n",
       " 12.36111111111111,\n",
       " 12.68421052631579,\n",
       " 13.025,\n",
       " 13.380952380952381,\n",
       " 13.75,\n",
       " 14.130434782608695,\n",
       " 14.520833333333334,\n",
       " 14.92,\n",
       " 15.326923076923077,\n",
       " 15.74074074074074,\n",
       " 16.160714285714285,\n",
       " 16.586206896551722,\n",
       " 17.016666666666666,\n",
       " 17.451612903225808,\n",
       " 17.890625,\n",
       " 18.333333333333332,\n",
       " 18.779411764705884,\n",
       " 19.228571428571428,\n",
       " 19.680555555555557,\n",
       " 20.135135135135137,\n",
       " 20.592105263157894,\n",
       " 21.05128205128205,\n",
       " 21.5125,\n",
       " 21.975609756097562,\n",
       " 22.44047619047619,\n",
       " 22.906976744186046,\n",
       " 23.375,\n",
       " 23.844444444444445,\n",
       " 24.315217391304348,\n",
       " 24.78723404255319,\n",
       " 25.260416666666668,\n",
       " 25.73469387755102,\n",
       " 26.21,\n",
       " 26.686274509803923,\n",
       " 27.16346153846154,\n",
       " 27.641509433962263,\n",
       " 28.12037037037037,\n",
       " 28.6,\n",
       " 29.080357142857142,\n",
       " 29.56140350877193,\n",
       " 30.04310344827586,\n",
       " 30.52542372881356,\n",
       " 31.008333333333333,\n",
       " 31.491803278688526,\n",
       " 31.975806451612904,\n",
       " 32.46031746031746,\n",
       " 32.9453125,\n",
       " 33.43076923076923,\n",
       " 33.916666666666664,\n",
       " 34.40298507462687,\n",
       " 34.88970588235294,\n",
       " 35.3768115942029,\n",
       " 35.864285714285714,\n",
       " 36.352112676056336,\n",
       " 36.84027777777778,\n",
       " 37.32876712328767,\n",
       " 37.817567567567565,\n",
       " 38.306666666666665,\n",
       " 38.796052631578945,\n",
       " 39.285714285714285,\n",
       " 39.77564102564103,\n",
       " 40.265822784810126,\n",
       " 40.75625,\n",
       " 41.24691358024691,\n",
       " 41.73780487804878,\n",
       " 42.2289156626506,\n",
       " 42.720238095238095,\n",
       " 43.21176470588235,\n",
       " 43.70348837209303,\n",
       " 44.195402298850574,\n",
       " 44.6875,\n",
       " 45.17977528089887,\n",
       " 45.672222222222224,\n",
       " 46.16483516483517,\n",
       " 46.65760869565217,\n",
       " 47.1505376344086,\n",
       " 47.6436170212766,\n",
       " 48.136842105263156,\n",
       " 48.630208333333336,\n",
       " 49.123711340206185,\n",
       " 49.61734693877551,\n",
       " 50.111111111111114]"
      ]
     },
     "execution_count": 4,
     "metadata": {},
     "output_type": "execute_result"
    }
   ],
   "source": [
    "[testfunc(x) for x in range(1,100)]"
   ]
  },
  {
   "cell_type": "code",
   "execution_count": 5,
   "metadata": {},
   "outputs": [
    {
     "data": {
      "text/plain": [
       "[<matplotlib.lines.Line2D at 0x7f8f1fe00f28>]"
      ]
     },
     "execution_count": 5,
     "metadata": {},
     "output_type": "execute_result"
    },
    {
     "data": {
      "image/png": "[encoded data removed]",
      "text/plain": [
       "<Figure size 432x288 with 1 Axes>"
      ]
     },
     "metadata": {
      "needs_background": "light"
     },
     "output_type": "display_data"
    }
   ],
   "source": [
    "plt.plot([testfunc(x) for x in range(1,100)])"
   ]
  },
  {
   "cell_type": "markdown",
   "metadata": {},
   "source": [
    "The truth should be 11.  How do we get at this iteratively? Can we take a learning rate approach?"
   ]
  },
  {
   "cell_type": "code",
   "execution_count": 6,
   "metadata": {},
   "outputs": [],
   "source": [
    "def approximateSqrt(X, numiter=1, initguess=1, lr=0.001):\n",
    "    guess = initguess\n",
    "    for i in range(numiter):\n",
    "        pred = (0.5 * ((X/guess) + guess)) * (0.5 * ((X/guess) + guess))\n",
    "        err = pred - X\n",
    "        step = err * lr\n",
    "        \n",
    "        guess += step\n",
    "        \n",
    "        print(err, step, guess)\n",
    "        \n",
    "        yield guess"
   ]
  },
  {
   "cell_type": "code",
   "execution_count": 7,
   "metadata": {},
   "outputs": [
    {
     "name": "stdout",
     "output_type": "stream",
     "text": [
      "3600.0 3.6 4.6\n",
      "117.76967863894137 0.11776967863894137 4.717769678638941\n",
      "109.51562583013913 0.10951562583013913 4.82728530446908\n",
      "102.3998556357366 0.1023998556357366 4.929685160104817\n",
      "96.19189035779635 0.09619189035779635 5.025877050462613\n",
      "90.72108050554792 0.09072108050554792 5.116598130968161\n",
      "85.85808051549714 0.08585808051549713 5.202456211483659\n",
      "81.50287516623541 0.08150287516623542 5.283959086649894\n",
      "77.57678523823543 0.07757678523823543 5.36153587188813\n",
      "74.01697943028287 0.07401697943028288 5.435552851318413\n"
     ]
    }
   ],
   "source": [
    "agen = approximateSqrt(121, 10, initguess=1, lr=0.001)\n",
    "learnedsqrts = list(agen)"
   ]
  },
  {
   "cell_type": "code",
   "execution_count": 14,
   "metadata": {},
   "outputs": [],
   "source": [
    "def approximateSqrt(X, numiter=1, initguess=1, lr=0.001):\n",
    "    guess = initguess\n",
    "    for i in range(numiter):\n",
    "        pred = (0.5 * ((X/guess) + guess)) * (0.5 * ((X/guess) + guess))\n",
    "        err = pred - X\n",
    "        step = err * lr\n",
    "        \n",
    "        guess += step\n",
    "        \n",
    "        yield guess"
   ]
  },
  {
   "cell_type": "code",
   "execution_count": 15,
   "metadata": {},
   "outputs": [],
   "source": [
    "agen = approximateSqrt(121, 2000, initguess=1, lr=0.001)\n",
    "learnedsqrts = list(agen)"
   ]
  },
  {
   "cell_type": "code",
   "execution_count": 16,
   "metadata": {},
   "outputs": [
    {
     "data": {
      "text/plain": [
       "[<matplotlib.lines.Line2D at 0x7f8f1f7554e0>]"
      ]
     },
     "execution_count": 16,
     "metadata": {},
     "output_type": "execute_result"
    },
    {
     "data": {
      "image/png": "[encoded data removed]",
      "text/plain": [
       "<Figure size 432x288 with 1 Axes>"
      ]
     },
     "metadata": {
      "needs_background": "light"
     },
     "output_type": "display_data"
    }
   ],
   "source": [
    "plt.plot(learnedsqrts)"
   ]
  },
  {
   "cell_type": "code",
   "execution_count": 17,
   "metadata": {},
   "outputs": [
    {
     "data": {
      "text/plain": [
       "10.586663030689598"
      ]
     },
     "execution_count": 17,
     "metadata": {},
     "output_type": "execute_result"
    }
   ],
   "source": [
    "learnedsqrts[-1]"
   ]
  },
  {
   "cell_type": "code",
   "execution_count": null,
   "metadata": {},
   "outputs": [],
   "source": []
  }
 ],
 "metadata": {
  "kernelspec": {
   "display_name": "Python 3",
   "language": "python",
   "name": "python3"
  },
  "language_info": {
   "codemirror_mode": {
    "name": "ipython",
    "version": 3
   },
   "file_extension": ".py",
   "mimetype": "text/x-python",
   "name": "python",
   "nbconvert_exporter": "python",
   "pygments_lexer": "ipython3",
   "version": "3.7.1"
  }
 },
 "nbformat": 4,
 "nbformat_minor": 2
}
