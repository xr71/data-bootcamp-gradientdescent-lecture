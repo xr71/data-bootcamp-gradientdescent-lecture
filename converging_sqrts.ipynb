{
 "cells": [
  {
   "cell_type": "code",
   "execution_count": 1,
   "metadata": {},
   "outputs": [],
   "source": [
    "import numpy as np\n",
    "import matplotlib.pyplot as plt\n",
    "\n",
    "%matplotlib inline"
   ]
  },
  {
   "cell_type": "markdown",
   "metadata": {},
   "source": [
    "$$\n",
    "X - A^2 \\approx 0\n",
    "$$\n",
    "\n",
    "Where A is my guess"
   ]
  },
  {
   "cell_type": "code",
   "execution_count": 4,
   "metadata": {},
   "outputs": [],
   "source": [
    "def approxsqrt(X, numiter=1, initguess=1, lr=0.001):\n",
    "    guess = initguess\n",
    "    for i in range(numiter):\n",
    "        pred = guess * guess\n",
    "        err = pred - X\n",
    "        step = -err * lr\n",
    "        \n",
    "        guess += step\n",
    "        \n",
    "        print(err, step, guess)\n",
    "        "
   ]
  },
  {
   "cell_type": "code",
   "execution_count": 5,
   "metadata": {},
   "outputs": [
    {
     "name": "stdout",
     "output_type": "stream",
     "text": [
      "-120 0.12 1.12\n",
      "-119.7456 0.1197456 1.2397456\n",
      "-119.46303084728063 0.11946303084728063 1.3592086308472806\n",
      "-119.15255189783026 0.11915255189783026 1.4783611827451109\n",
      "-118.81444821335248 0.11881444821335248 1.5971756309584633\n",
      "-118.44903000387244 0.11844903000387244 1.7156246609623358\n",
      "-118.05663202269787 0.11805663202269787 1.8336812929850337\n",
      "-117.63761291575673 0.11763761291575674 1.9513189059007905\n",
      "-117.19235452747414 0.11719235452747415 2.0685112604282647\n",
      "-116.72126116548147 0.11672126116548147 2.185232521593746\n"
     ]
    }
   ],
   "source": [
    "approxsqrt(121, numiter=10, initguess=1)"
   ]
  },
  {
   "cell_type": "code",
   "execution_count": 17,
   "metadata": {},
   "outputs": [],
   "source": [
    "def approxsqrt(X, numiter=1, initguess=1, lr=0.001):\n",
    "    guess = initguess\n",
    "    \n",
    "    for i in range(numiter):\n",
    "        pred = guess * guess\n",
    "        err = pred - X\n",
    "        step = -err * lr\n",
    "        \n",
    "        guess += step\n",
    "        \n",
    "        yield guess"
   ]
  },
  {
   "cell_type": "code",
   "execution_count": 18,
   "metadata": {},
   "outputs": [],
   "source": [
    "agen = approxsqrt(121, 1000)"
   ]
  },
  {
   "cell_type": "code",
   "execution_count": 19,
   "metadata": {},
   "outputs": [],
   "source": [
    "learnedsqrts = list(agen)"
   ]
  },
  {
   "cell_type": "code",
   "execution_count": 20,
   "metadata": {},
   "outputs": [
    {
     "data": {
      "text/plain": [
       "10.9999999959449"
      ]
     },
     "execution_count": 20,
     "metadata": {},
     "output_type": "execute_result"
    }
   ],
   "source": [
    "learnedsqrts[-1]"
   ]
  },
  {
   "cell_type": "code",
   "execution_count": 21,
   "metadata": {},
   "outputs": [
    {
     "data": {
      "text/plain": [
       "[<matplotlib.lines.Line2D at 0x7fa72ea0cbe0>]"
      ]
     },
     "execution_count": 21,
     "metadata": {},
     "output_type": "execute_result"
    },
    {
     "data": {
      "image/png": "[encoded data removed]",
      "text/plain": [
       "<Figure size 432x288 with 1 Axes>"
      ]
     },
     "metadata": {
      "needs_background": "light"
     },
     "output_type": "display_data"
    }
   ],
   "source": [
    "plt.plot(learnedsqrts)"
   ]
  },
  {
   "cell_type": "code",
   "execution_count": null,
   "metadata": {},
   "outputs": [],
   "source": []
  }
 ],
 "metadata": {
  "kernelspec": {
   "display_name": "Python 3",
   "language": "python",
   "name": "python3"
  },
  "language_info": {
   "codemirror_mode": {
    "name": "ipython",
    "version": 3
   },
   "file_extension": ".py",
   "mimetype": "text/x-python",
   "name": "python",
   "nbconvert_exporter": "python",
   "pygments_lexer": "ipython3",
   "version": "3.7.1"
  }
 },
 "nbformat": 4,
 "nbformat_minor": 2
}
